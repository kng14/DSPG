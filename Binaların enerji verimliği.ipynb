{
 "cells": [
  {
   "cell_type": "markdown",
   "id": "environmental-harvard",
   "metadata": {},
   "source": [
    "Binaların Enerji Verimliği\n",
    "DSPG Projesi Üzerinde Araştırılmıştır\n",
    "\n",
    "Ulanbek Toktogulov\n",
    "ulanbek.toktogulov@gmail.com\n",
    "\n",
    "\n",
    "# Kütüphane Hazırlama"
   ]
  },
  {
   "cell_type": "code",
   "execution_count": 2,
   "id": "expected-triple",
   "metadata": {},
   "outputs": [],
   "source": [
    "import pandas as pd\n",
    "import matplotlib.pyplot as plt\n",
    "import seaborn as sns\n",
    "import numpy as np"
   ]
  },
  {
   "cell_type": "markdown",
   "id": "sophisticated-polls",
   "metadata": {},
   "source": [
    "# Veri Yükleme"
   ]
  },
  {
   "cell_type": "code",
   "execution_count": 3,
   "id": "legendary-collective",
   "metadata": {},
   "outputs": [
    {
     "data": {
      "text/html": [
       "<div>\n",
       "<style scoped>\n",
       "    .dataframe tbody tr th:only-of-type {\n",
       "        vertical-align: middle;\n",
       "    }\n",
       "\n",
       "    .dataframe tbody tr th {\n",
       "        vertical-align: top;\n",
       "    }\n",
       "\n",
       "    .dataframe thead th {\n",
       "        text-align: right;\n",
       "    }\n",
       "</style>\n",
       "<table border=\"1\" class=\"dataframe\">\n",
       "  <thead>\n",
       "    <tr style=\"text-align: right;\">\n",
       "      <th></th>\n",
       "      <th>X1</th>\n",
       "      <th>X2</th>\n",
       "      <th>X3</th>\n",
       "      <th>X4</th>\n",
       "      <th>X5</th>\n",
       "      <th>X6</th>\n",
       "      <th>X7</th>\n",
       "      <th>X8</th>\n",
       "      <th>Y1</th>\n",
       "      <th>Y2</th>\n",
       "    </tr>\n",
       "  </thead>\n",
       "  <tbody>\n",
       "    <tr>\n",
       "      <th>0</th>\n",
       "      <td>0.98</td>\n",
       "      <td>514.5</td>\n",
       "      <td>294.0</td>\n",
       "      <td>110.25</td>\n",
       "      <td>7.0</td>\n",
       "      <td>2</td>\n",
       "      <td>0.0</td>\n",
       "      <td>0</td>\n",
       "      <td>15.55</td>\n",
       "      <td>21.33</td>\n",
       "    </tr>\n",
       "    <tr>\n",
       "      <th>1</th>\n",
       "      <td>0.98</td>\n",
       "      <td>514.5</td>\n",
       "      <td>294.0</td>\n",
       "      <td>110.25</td>\n",
       "      <td>7.0</td>\n",
       "      <td>3</td>\n",
       "      <td>0.0</td>\n",
       "      <td>0</td>\n",
       "      <td>15.55</td>\n",
       "      <td>21.33</td>\n",
       "    </tr>\n",
       "    <tr>\n",
       "      <th>2</th>\n",
       "      <td>0.98</td>\n",
       "      <td>514.5</td>\n",
       "      <td>294.0</td>\n",
       "      <td>110.25</td>\n",
       "      <td>7.0</td>\n",
       "      <td>4</td>\n",
       "      <td>0.0</td>\n",
       "      <td>0</td>\n",
       "      <td>15.55</td>\n",
       "      <td>21.33</td>\n",
       "    </tr>\n",
       "    <tr>\n",
       "      <th>3</th>\n",
       "      <td>0.98</td>\n",
       "      <td>514.5</td>\n",
       "      <td>294.0</td>\n",
       "      <td>110.25</td>\n",
       "      <td>7.0</td>\n",
       "      <td>5</td>\n",
       "      <td>0.0</td>\n",
       "      <td>0</td>\n",
       "      <td>15.55</td>\n",
       "      <td>21.33</td>\n",
       "    </tr>\n",
       "    <tr>\n",
       "      <th>4</th>\n",
       "      <td>0.90</td>\n",
       "      <td>563.5</td>\n",
       "      <td>318.5</td>\n",
       "      <td>122.50</td>\n",
       "      <td>7.0</td>\n",
       "      <td>2</td>\n",
       "      <td>0.0</td>\n",
       "      <td>0</td>\n",
       "      <td>20.84</td>\n",
       "      <td>28.28</td>\n",
       "    </tr>\n",
       "  </tbody>\n",
       "</table>\n",
       "</div>"
      ],
      "text/plain": [
       "     X1     X2     X3      X4   X5  X6   X7  X8     Y1     Y2\n",
       "0  0.98  514.5  294.0  110.25  7.0   2  0.0   0  15.55  21.33\n",
       "1  0.98  514.5  294.0  110.25  7.0   3  0.0   0  15.55  21.33\n",
       "2  0.98  514.5  294.0  110.25  7.0   4  0.0   0  15.55  21.33\n",
       "3  0.98  514.5  294.0  110.25  7.0   5  0.0   0  15.55  21.33\n",
       "4  0.90  563.5  318.5  122.50  7.0   2  0.0   0  20.84  28.28"
      ]
     },
     "execution_count": 3,
     "metadata": {},
     "output_type": "execute_result"
    }
   ],
   "source": [
    "energy_df = pd.read_csv(r'ENB2012_data.csv')\n",
    "energy_df.head() #veri basliklari gormek icin"
   ]
  },
  {
   "cell_type": "code",
   "execution_count": 4,
   "id": "lovely-buddy",
   "metadata": {},
   "outputs": [],
   "source": [
    "# sutunlari isimlendirecegiz\n",
    "energy_df.columns = [\"relative_compactness\",\"surface_area\",\"wall_area\",\"roof_area\",\"overall_height\",\"orientaion\",\n",
    "                   \"glazing_area\",\"glazing_area_dist\",\"heating_load\",\"cooling_load\"]"
   ]
  },
  {
   "cell_type": "code",
   "execution_count": 5,
   "id": "acknowledged-brother",
   "metadata": {},
   "outputs": [
    {
     "data": {
      "text/html": [
       "<div>\n",
       "<style scoped>\n",
       "    .dataframe tbody tr th:only-of-type {\n",
       "        vertical-align: middle;\n",
       "    }\n",
       "\n",
       "    .dataframe tbody tr th {\n",
       "        vertical-align: top;\n",
       "    }\n",
       "\n",
       "    .dataframe thead th {\n",
       "        text-align: right;\n",
       "    }\n",
       "</style>\n",
       "<table border=\"1\" class=\"dataframe\">\n",
       "  <thead>\n",
       "    <tr style=\"text-align: right;\">\n",
       "      <th></th>\n",
       "      <th>relative_compactness</th>\n",
       "      <th>surface_area</th>\n",
       "      <th>wall_area</th>\n",
       "      <th>roof_area</th>\n",
       "      <th>overall_height</th>\n",
       "      <th>orientaion</th>\n",
       "      <th>glazing_area</th>\n",
       "      <th>glazing_area_dist</th>\n",
       "      <th>heating_load</th>\n",
       "      <th>cooling_load</th>\n",
       "    </tr>\n",
       "  </thead>\n",
       "  <tbody>\n",
       "    <tr>\n",
       "      <th>0</th>\n",
       "      <td>0.98</td>\n",
       "      <td>514.5</td>\n",
       "      <td>294.0</td>\n",
       "      <td>110.25</td>\n",
       "      <td>7.0</td>\n",
       "      <td>2</td>\n",
       "      <td>0.0</td>\n",
       "      <td>0</td>\n",
       "      <td>15.55</td>\n",
       "      <td>21.33</td>\n",
       "    </tr>\n",
       "    <tr>\n",
       "      <th>1</th>\n",
       "      <td>0.98</td>\n",
       "      <td>514.5</td>\n",
       "      <td>294.0</td>\n",
       "      <td>110.25</td>\n",
       "      <td>7.0</td>\n",
       "      <td>3</td>\n",
       "      <td>0.0</td>\n",
       "      <td>0</td>\n",
       "      <td>15.55</td>\n",
       "      <td>21.33</td>\n",
       "    </tr>\n",
       "    <tr>\n",
       "      <th>2</th>\n",
       "      <td>0.98</td>\n",
       "      <td>514.5</td>\n",
       "      <td>294.0</td>\n",
       "      <td>110.25</td>\n",
       "      <td>7.0</td>\n",
       "      <td>4</td>\n",
       "      <td>0.0</td>\n",
       "      <td>0</td>\n",
       "      <td>15.55</td>\n",
       "      <td>21.33</td>\n",
       "    </tr>\n",
       "    <tr>\n",
       "      <th>3</th>\n",
       "      <td>0.98</td>\n",
       "      <td>514.5</td>\n",
       "      <td>294.0</td>\n",
       "      <td>110.25</td>\n",
       "      <td>7.0</td>\n",
       "      <td>5</td>\n",
       "      <td>0.0</td>\n",
       "      <td>0</td>\n",
       "      <td>15.55</td>\n",
       "      <td>21.33</td>\n",
       "    </tr>\n",
       "    <tr>\n",
       "      <th>4</th>\n",
       "      <td>0.90</td>\n",
       "      <td>563.5</td>\n",
       "      <td>318.5</td>\n",
       "      <td>122.50</td>\n",
       "      <td>7.0</td>\n",
       "      <td>2</td>\n",
       "      <td>0.0</td>\n",
       "      <td>0</td>\n",
       "      <td>20.84</td>\n",
       "      <td>28.28</td>\n",
       "    </tr>\n",
       "    <tr>\n",
       "      <th>5</th>\n",
       "      <td>0.90</td>\n",
       "      <td>563.5</td>\n",
       "      <td>318.5</td>\n",
       "      <td>122.50</td>\n",
       "      <td>7.0</td>\n",
       "      <td>3</td>\n",
       "      <td>0.0</td>\n",
       "      <td>0</td>\n",
       "      <td>21.46</td>\n",
       "      <td>25.38</td>\n",
       "    </tr>\n",
       "    <tr>\n",
       "      <th>6</th>\n",
       "      <td>0.90</td>\n",
       "      <td>563.5</td>\n",
       "      <td>318.5</td>\n",
       "      <td>122.50</td>\n",
       "      <td>7.0</td>\n",
       "      <td>4</td>\n",
       "      <td>0.0</td>\n",
       "      <td>0</td>\n",
       "      <td>20.71</td>\n",
       "      <td>25.16</td>\n",
       "    </tr>\n",
       "    <tr>\n",
       "      <th>7</th>\n",
       "      <td>0.90</td>\n",
       "      <td>563.5</td>\n",
       "      <td>318.5</td>\n",
       "      <td>122.50</td>\n",
       "      <td>7.0</td>\n",
       "      <td>5</td>\n",
       "      <td>0.0</td>\n",
       "      <td>0</td>\n",
       "      <td>19.68</td>\n",
       "      <td>29.60</td>\n",
       "    </tr>\n",
       "    <tr>\n",
       "      <th>8</th>\n",
       "      <td>0.86</td>\n",
       "      <td>588.0</td>\n",
       "      <td>294.0</td>\n",
       "      <td>147.00</td>\n",
       "      <td>7.0</td>\n",
       "      <td>2</td>\n",
       "      <td>0.0</td>\n",
       "      <td>0</td>\n",
       "      <td>19.50</td>\n",
       "      <td>27.30</td>\n",
       "    </tr>\n",
       "    <tr>\n",
       "      <th>9</th>\n",
       "      <td>0.86</td>\n",
       "      <td>588.0</td>\n",
       "      <td>294.0</td>\n",
       "      <td>147.00</td>\n",
       "      <td>7.0</td>\n",
       "      <td>3</td>\n",
       "      <td>0.0</td>\n",
       "      <td>0</td>\n",
       "      <td>19.95</td>\n",
       "      <td>21.97</td>\n",
       "    </tr>\n",
       "  </tbody>\n",
       "</table>\n",
       "</div>"
      ],
      "text/plain": [
       "   relative_compactness  surface_area  wall_area  roof_area  overall_height  \\\n",
       "0                  0.98         514.5      294.0     110.25             7.0   \n",
       "1                  0.98         514.5      294.0     110.25             7.0   \n",
       "2                  0.98         514.5      294.0     110.25             7.0   \n",
       "3                  0.98         514.5      294.0     110.25             7.0   \n",
       "4                  0.90         563.5      318.5     122.50             7.0   \n",
       "5                  0.90         563.5      318.5     122.50             7.0   \n",
       "6                  0.90         563.5      318.5     122.50             7.0   \n",
       "7                  0.90         563.5      318.5     122.50             7.0   \n",
       "8                  0.86         588.0      294.0     147.00             7.0   \n",
       "9                  0.86         588.0      294.0     147.00             7.0   \n",
       "\n",
       "   orientaion  glazing_area  glazing_area_dist  heating_load  cooling_load  \n",
       "0           2           0.0                  0         15.55         21.33  \n",
       "1           3           0.0                  0         15.55         21.33  \n",
       "2           4           0.0                  0         15.55         21.33  \n",
       "3           5           0.0                  0         15.55         21.33  \n",
       "4           2           0.0                  0         20.84         28.28  \n",
       "5           3           0.0                  0         21.46         25.38  \n",
       "6           4           0.0                  0         20.71         25.16  \n",
       "7           5           0.0                  0         19.68         29.60  \n",
       "8           2           0.0                  0         19.50         27.30  \n",
       "9           3           0.0                  0         19.95         21.97  "
      ]
     },
     "execution_count": 5,
     "metadata": {},
     "output_type": "execute_result"
    }
   ],
   "source": [
    "energy_df.head(10) #ilk 10 satiri bakalim"
   ]
  },
  {
   "cell_type": "markdown",
   "id": "sixth-legislature",
   "metadata": {},
   "source": [
    "# Veri Dönüştürme ve Bölme İşlemi"
   ]
  },
  {
   "cell_type": "code",
   "execution_count": 6,
   "id": "egyptian-carry",
   "metadata": {},
   "outputs": [],
   "source": [
    "energy_df[\"log_heating_load\"] = np.log(energy_df[\"heating_load\"]) #isitma\n",
    "energy_df[\"log_cooling_load\"] = np.log(energy_df[\"cooling_load\"]) #sogutma\n",
    "\n",
    "energy_df_f = energy_df.copy() # verilerimizi kopyalayacagiz\n",
    "energy_df_f.drop([\"heating_load\",\"cooling_load\"], axis= 1, inplace = True) \n",
    "\n",
    "energy_X = energy_df_f.iloc[:,: -2]\n",
    "energy_Y = energy_df_f.loc[:,[\"log_heating_load\"]]\n",
    "\n",
    "from sklearn.model_selection import RandomizedSearchCV as randomCV\n",
    "from sklearn.preprocessing import StandardScaler \n",
    "from sklearn.model_selection import train_test_split\n",
    "\n",
    "std_scale=StandardScaler()\n",
    "\n",
    "energy_X_std=std_scale.fit_transform(energy_X)\n",
    "\n",
    "energy_train_X,energy_test_X,energy_train_Y,energy_test_Y=\\\n",
    "train_test_split(energy_X_std,energy_Y,test_size=0.20,random_state=48)\n",
    "\n",
    "energy_train_r_X,energy_test_r_X,energy_train_Y,energy_test_Y=\\\n",
    "train_test_split(energy_X,energy_Y,test_size=0.20,random_state=48)"
   ]
  },
  {
   "cell_type": "markdown",
   "id": "latin-framework",
   "metadata": {},
   "source": [
    "# PCA Regression"
   ]
  },
  {
   "cell_type": "code",
   "execution_count": 7,
   "id": "interstate-counter",
   "metadata": {},
   "outputs": [],
   "source": [
    "from sklearn.decomposition import PCA\n",
    "from sklearn.pipeline import make_pipeline\n",
    "from sklearn.linear_model import LinearRegression as l_reg\n",
    "from sklearn.model_selection import cross_validate"
   ]
  },
  {
   "cell_type": "code",
   "execution_count": 8,
   "id": "hearing-quebec",
   "metadata": {},
   "outputs": [],
   "source": [
    "def pca_regressor_cv(data_X,data_Y,no_features,seed,cv_no):\n",
    "    pcr=make_pipeline(PCA(n_components=no_features,random_state=seed),l_reg())\n",
    "    cv_results=cross_validate(pcr,data_X,data_Y,cv=cv_no,\n",
    "                              scoring=[\"neg_root_mean_squared_error\",\"r2\"],return_train_score=True)\n",
    "    return cv_results"
   ]
  },
  {
   "cell_type": "code",
   "execution_count": 9,
   "id": "quick-analyst",
   "metadata": {},
   "outputs": [],
   "source": [
    "rmse_list_train=[]\n",
    "rmse_list_test=[]\n",
    "r2_list_train=[]\n",
    "r2_list_test=[]\n",
    "for i in range(1,9):\n",
    "    cv_results_temp=pca_regressor_cv(energy_train_X,energy_train_Y,no_features=i,seed=48,cv_no=5)\n",
    "    mean_rmse_train=np.mean(cv_results_temp[\"train_neg_root_mean_squared_error\"])\n",
    "    mean_r2_train=np.mean(cv_results_temp[\"train_r2\"])\n",
    "    mean_rmse_test=np.mean(cv_results_temp[\"test_neg_root_mean_squared_error\"])\n",
    "    mean_r2_test=np.mean(cv_results_temp[\"test_r2\"])\n",
    "    rmse_list_train.append(mean_rmse_train)\n",
    "    r2_list_train.append(mean_r2_train)\n",
    "    rmse_list_test.append(mean_rmse_test)\n",
    "    r2_list_test.append(mean_r2_test)\n",
    "    rmse_df=pd.DataFrame(zip(rmse_list_train,rmse_list_test,r2_list_train,r2_list_test))\n",
    "    rmse_df.columns=[\"Mean RMSE Train\",\"Mean RMSE Test\",\"Mean R2 Train\",\"Mean R2 Test\"]\n",
    "    rmse_df.index=rmse_df.index+1"
   ]
  },
  {
   "cell_type": "code",
   "execution_count": 10,
   "id": "fossil-cotton",
   "metadata": {},
   "outputs": [
    {
     "data": {
      "text/html": [
       "<div>\n",
       "<style scoped>\n",
       "    .dataframe tbody tr th:only-of-type {\n",
       "        vertical-align: middle;\n",
       "    }\n",
       "\n",
       "    .dataframe tbody tr th {\n",
       "        vertical-align: top;\n",
       "    }\n",
       "\n",
       "    .dataframe thead th {\n",
       "        text-align: right;\n",
       "    }\n",
       "</style>\n",
       "<table border=\"1\" class=\"dataframe\">\n",
       "  <thead>\n",
       "    <tr style=\"text-align: right;\">\n",
       "      <th></th>\n",
       "      <th>Mean RMSE Train</th>\n",
       "      <th>Mean RMSE Test</th>\n",
       "      <th>Mean R2 Train</th>\n",
       "      <th>Mean R2 Test</th>\n",
       "    </tr>\n",
       "  </thead>\n",
       "  <tbody>\n",
       "    <tr>\n",
       "      <th>1</th>\n",
       "      <td>-0.276333</td>\n",
       "      <td>-0.277533</td>\n",
       "      <td>0.664668</td>\n",
       "      <td>0.658539</td>\n",
       "    </tr>\n",
       "    <tr>\n",
       "      <th>2</th>\n",
       "      <td>-0.178222</td>\n",
       "      <td>-0.180507</td>\n",
       "      <td>0.857640</td>\n",
       "      <td>0.855037</td>\n",
       "    </tr>\n",
       "    <tr>\n",
       "      <th>3</th>\n",
       "      <td>-0.154762</td>\n",
       "      <td>-0.155155</td>\n",
       "      <td>0.894644</td>\n",
       "      <td>0.892932</td>\n",
       "    </tr>\n",
       "    <tr>\n",
       "      <th>4</th>\n",
       "      <td>-0.151661</td>\n",
       "      <td>-0.152948</td>\n",
       "      <td>0.898981</td>\n",
       "      <td>0.895856</td>\n",
       "    </tr>\n",
       "    <tr>\n",
       "      <th>5</th>\n",
       "      <td>-0.137665</td>\n",
       "      <td>-0.138499</td>\n",
       "      <td>0.916785</td>\n",
       "      <td>0.914670</td>\n",
       "    </tr>\n",
       "    <tr>\n",
       "      <th>6</th>\n",
       "      <td>-0.118800</td>\n",
       "      <td>-0.119947</td>\n",
       "      <td>0.938045</td>\n",
       "      <td>0.936239</td>\n",
       "    </tr>\n",
       "    <tr>\n",
       "      <th>7</th>\n",
       "      <td>-0.117298</td>\n",
       "      <td>-0.118518</td>\n",
       "      <td>0.939599</td>\n",
       "      <td>0.937711</td>\n",
       "    </tr>\n",
       "    <tr>\n",
       "      <th>8</th>\n",
       "      <td>-0.125294</td>\n",
       "      <td>-0.125159</td>\n",
       "      <td>0.930132</td>\n",
       "      <td>0.929335</td>\n",
       "    </tr>\n",
       "  </tbody>\n",
       "</table>\n",
       "</div>"
      ],
      "text/plain": [
       "   Mean RMSE Train  Mean RMSE Test  Mean R2 Train  Mean R2 Test\n",
       "1        -0.276333       -0.277533       0.664668      0.658539\n",
       "2        -0.178222       -0.180507       0.857640      0.855037\n",
       "3        -0.154762       -0.155155       0.894644      0.892932\n",
       "4        -0.151661       -0.152948       0.898981      0.895856\n",
       "5        -0.137665       -0.138499       0.916785      0.914670\n",
       "6        -0.118800       -0.119947       0.938045      0.936239\n",
       "7        -0.117298       -0.118518       0.939599      0.937711\n",
       "8        -0.125294       -0.125159       0.930132      0.929335"
      ]
     },
     "execution_count": 10,
     "metadata": {},
     "output_type": "execute_result"
    }
   ],
   "source": [
    "rmse_df"
   ]
  },
  {
   "cell_type": "code",
   "execution_count": 11,
   "id": "chemical-collection",
   "metadata": {},
   "outputs": [
    {
     "data": {
      "image/png": "[encoded data removed]",
      "text/plain": [
       "<Figure size 720x360 with 2 Axes>"
      ]
     },
     "metadata": {
      "needs_background": "light"
     },
     "output_type": "display_data"
    }
   ],
   "source": [
    "fig,ax=plt.subplots(1,2,figsize=(10,5))\n",
    "sns.lineplot(data=rmse_df.iloc[:,:2],ax=ax[0])\n",
    "sns.lineplot(data=rmse_df.iloc[:,2:],ax=ax[1])\n",
    "ax[0].set_title(\"Mean Negative RMSE \\n Based on Number of Features\")\n",
    "ax[1].set_title(\"Mean R2 Based on Number of Features\")\n",
    "plt.show()"
   ]
  },
  {
   "cell_type": "code",
   "execution_count": 12,
   "id": "fantastic-profile",
   "metadata": {},
   "outputs": [],
   "source": [
    "pca=PCA(n_components=6,random_state=48)\n",
    "energy_PCA_train_X=pd.DataFrame(pca.fit_transform(energy_train_X))\n",
    "cum_variance=np.cumsum(pca.explained_variance_ratio_)\n",
    "cum_variance_df=pd.DataFrame(zip(pca.explained_variance_ratio_,cum_variance))"
   ]
  },
  {
   "cell_type": "code",
   "execution_count": 13,
   "id": "traditional-charity",
   "metadata": {},
   "outputs": [
    {
     "data": {
      "text/html": [
       "<div>\n",
       "<style scoped>\n",
       "    .dataframe tbody tr th:only-of-type {\n",
       "        vertical-align: middle;\n",
       "    }\n",
       "\n",
       "    .dataframe tbody tr th {\n",
       "        vertical-align: top;\n",
       "    }\n",
       "\n",
       "    .dataframe thead th {\n",
       "        text-align: right;\n",
       "    }\n",
       "</style>\n",
       "<table border=\"1\" class=\"dataframe\">\n",
       "  <thead>\n",
       "    <tr style=\"text-align: right;\">\n",
       "      <th></th>\n",
       "      <th>Variance</th>\n",
       "      <th>Cumulative Variance</th>\n",
       "    </tr>\n",
       "  </thead>\n",
       "  <tbody>\n",
       "    <tr>\n",
       "      <th>1</th>\n",
       "      <td>0.463862</td>\n",
       "      <td>0.463862</td>\n",
       "    </tr>\n",
       "    <tr>\n",
       "      <th>2</th>\n",
       "      <td>0.155927</td>\n",
       "      <td>0.619789</td>\n",
       "    </tr>\n",
       "    <tr>\n",
       "      <th>3</th>\n",
       "      <td>0.148402</td>\n",
       "      <td>0.768191</td>\n",
       "    </tr>\n",
       "    <tr>\n",
       "      <th>4</th>\n",
       "      <td>0.126390</td>\n",
       "      <td>0.894580</td>\n",
       "    </tr>\n",
       "    <tr>\n",
       "      <th>5</th>\n",
       "      <td>0.098502</td>\n",
       "      <td>0.993083</td>\n",
       "    </tr>\n",
       "    <tr>\n",
       "      <th>6</th>\n",
       "      <td>0.006363</td>\n",
       "      <td>0.999446</td>\n",
       "    </tr>\n",
       "  </tbody>\n",
       "</table>\n",
       "</div>"
      ],
      "text/plain": [
       "   Variance  Cumulative Variance\n",
       "1  0.463862             0.463862\n",
       "2  0.155927             0.619789\n",
       "3  0.148402             0.768191\n",
       "4  0.126390             0.894580\n",
       "5  0.098502             0.993083\n",
       "6  0.006363             0.999446"
      ]
     },
     "execution_count": 13,
     "metadata": {},
     "output_type": "execute_result"
    }
   ],
   "source": [
    "cum_variance_df.columns=[\"Variance\",\"Cumulative Variance\"]\n",
    "cum_variance_df.index=cum_variance_df.index+1\n",
    "cum_variance_df\n"
   ]
  },
  {
   "cell_type": "code",
   "execution_count": 14,
   "id": "senior-absorption",
   "metadata": {},
   "outputs": [
    {
     "data": {
      "image/png": "[encoded data removed]",
      "text/plain": [
       "<Figure size 360x360 with 1 Axes>"
      ]
     },
     "metadata": {
      "needs_background": "light"
     },
     "output_type": "display_data"
    }
   ],
   "source": [
    "fig,ax=plt.subplots(1,1,figsize=(5,5))\n",
    "sns.lineplot(data=cum_variance_df,ax=ax)\n",
    "ax.set_title(label=\"Explained Variance \\n for Each Principal Component\")\n",
    "ax.set_xlabel(xlabel=\"Kth Principal Component\")\n",
    "ax.set_ylabel(ylabel=\"Explained Variance\")\n",
    "plt.show()"
   ]
  },
  {
   "cell_type": "markdown",
   "id": "occasional-tyler",
   "metadata": {},
   "source": [
    "# Model Ayarlama"
   ]
  },
  {
   "cell_type": "code",
   "execution_count": 17,
   "id": "planned-bankruptcy",
   "metadata": {},
   "outputs": [],
   "source": [
    "l_reg_pca=l_reg()\n",
    "l_reg_pca.fit(energy_PCA_train_X,np.ravel(energy_train_Y))\n",
    "pred_train_pca=l_reg_pca.predict(energy_PCA_train_X)\n",
    "energy_PCA_test_X=pd.DataFrame(pca.transform(energy_test_X))\n",
    "pred_test_pca=l_reg_pca.predict(energy_PCA_test_X)"
   ]
  },
  {
   "cell_type": "code",
   "execution_count": 18,
   "id": "polar-livestock",
   "metadata": {},
   "outputs": [],
   "source": [
    "from sklearn.metrics import mean_squared_error as MSE"
   ]
  },
  {
   "cell_type": "code",
   "execution_count": 19,
   "id": "stock-encoding",
   "metadata": {},
   "outputs": [
    {
     "name": "stdout",
     "output_type": "stream",
     "text": [
      "RMSE for Train set: 0.11895516922251256\n",
      "RMSE for Test set: 0.12885533678242034\n"
     ]
    }
   ],
   "source": [
    "print(\"RMSE for Train set:\",MSE(pred_train_pca,energy_train_Y,squared=False))\n",
    "print(\"RMSE for Test set:\",MSE(pred_test_pca,energy_test_Y,squared=False))"
   ]
  },
  {
   "cell_type": "code",
   "execution_count": 21,
   "id": "english-sauce",
   "metadata": {},
   "outputs": [],
   "source": [
    "from sklearn.metrics import r2_score"
   ]
  },
  {
   "cell_type": "code",
   "execution_count": 22,
   "id": "overall-silicon",
   "metadata": {},
   "outputs": [
    {
     "name": "stdout",
     "output_type": "stream",
     "text": [
      "R2 for Train set: 0.9338166434343519\n",
      "R2 for Test set: 0.9159809136173902\n"
     ]
    }
   ],
   "source": [
    "print(\"R2 for Train set:\",r2_score(pred_train_pca,energy_train_Y))\n",
    "print(\"R2 for Test set:\",r2_score(pred_test_pca,energy_test_Y))"
   ]
  },
  {
   "cell_type": "markdown",
   "id": "amazing-recorder",
   "metadata": {},
   "source": [
    "# Model Tani\n"
   ]
  },
  {
   "cell_type": "code",
   "execution_count": 23,
   "id": "yellow-quest",
   "metadata": {},
   "outputs": [],
   "source": [
    "actual_y_pca=[np.ravel(energy_train_Y),np.ravel(energy_test_Y)]\n",
    "predict_y_pca=[pred_train_pca,pred_test_pca]"
   ]
  },
  {
   "cell_type": "code",
   "execution_count": 24,
   "id": "every-shaft",
   "metadata": {},
   "outputs": [],
   "source": [
    "def residual_plot(actual_y,predict_y,title_label):\n",
    "    fig,ax=plt.subplots(1,len(actual_y),figsize=(10,5))\n",
    "    for i,col in enumerate(actual_y,0):\n",
    "        sns.residplot(x=actual_y[i], y=predict_y[i], lowess=True, color=\"g\",ax=ax[i])\n",
    "        ax[i].set_title(title_label[i])\n",
    "    return fig,ax"
   ]
  },
  {
   "cell_type": "code",
   "execution_count": 33,
   "id": "mobile-essence",
   "metadata": {},
   "outputs": [],
   "source": [
    "raw_pred_err_list_pca=[]\n",
    "\n",
    "for i in range(0,len(actual_y_pca)):\n",
    "    list_temp=[]\n",
    "    list_temp=actual_y_pca[i]-predict_y_pca[i]\n",
    "    raw_pred_err_list_pca.append(list_temp)\n",
    "raw_pred_err_label=[\"Raw Prediction Errors (Train)\",\"Raw Prediction Errors (Test)\"]"
   ]
  },
  {
   "cell_type": "code",
   "execution_count": 34,
   "id": "wrong-brooks",
   "metadata": {},
   "outputs": [],
   "source": [
    "def raw_predict_err_hist(err_predict_list,bin_no,title_label):\n",
    "    fig,ax=plt.subplots(1,len(err_predict_list),figsize=(10,5))\n",
    "    for i,col in enumerate(err_predict_list,0):\n",
    "        sns.histplot(x=err_predict_list[i],bins=bin_no,kde=True,ax=ax[i])\n",
    "        ax[i].set_title(title_label[i])\n",
    "    return fig,ax"
   ]
  },
  {
   "cell_type": "code",
   "execution_count": 35,
   "id": "detected-christmas",
   "metadata": {},
   "outputs": [
    {
     "data": {
      "image/png": "[encoded data removed]",
      "text/plain": [
       "<Figure size 720x360 with 2 Axes>"
      ]
     },
     "metadata": {
      "needs_background": "light"
     },
     "output_type": "display_data"
    }
   ],
   "source": [
    "raw_predict_err_hist(raw_pred_err_list_pca,bin_no=7,title_label=raw_pred_err_label)\n",
    "plt.show()\n"
   ]
  },
  {
   "cell_type": "code",
   "execution_count": 42,
   "id": "reported-background",
   "metadata": {},
   "outputs": [],
   "source": [
    "pls_rg_f=pls_reg(n_components=7)\n",
    "pls_rg_f.fit(energy_train_r_X,np.ravel(energy_train_Y))\n",
    "pred_train_pls=pls_rg_f.predict(energy_train_r_X)\n",
    "pred_test_pls=pls_rg_f.predict(energy_test_r_X)"
   ]
  },
  {
   "cell_type": "code",
   "execution_count": 44,
   "id": "subjective-hostel",
   "metadata": {},
   "outputs": [
    {
     "data": {
      "text/html": [
       "<div>\n",
       "<style scoped>\n",
       "    .dataframe tbody tr th:only-of-type {\n",
       "        vertical-align: middle;\n",
       "    }\n",
       "\n",
       "    .dataframe tbody tr th {\n",
       "        vertical-align: top;\n",
       "    }\n",
       "\n",
       "    .dataframe thead th {\n",
       "        text-align: right;\n",
       "    }\n",
       "</style>\n",
       "<table border=\"1\" class=\"dataframe\">\n",
       "  <thead>\n",
       "    <tr style=\"text-align: right;\">\n",
       "      <th></th>\n",
       "      <th>1</th>\n",
       "      <th>2</th>\n",
       "      <th>3</th>\n",
       "      <th>4</th>\n",
       "      <th>5</th>\n",
       "      <th>6</th>\n",
       "    </tr>\n",
       "  </thead>\n",
       "  <tbody>\n",
       "    <tr>\n",
       "      <th>relative_compactness</th>\n",
       "      <td>0.495257</td>\n",
       "      <td>-0.214559</td>\n",
       "      <td>-0.113051</td>\n",
       "      <td>-0.024524</td>\n",
       "      <td>-0.016792</td>\n",
       "      <td>0.496696</td>\n",
       "    </tr>\n",
       "    <tr>\n",
       "      <th>surface_area</th>\n",
       "      <td>-0.501974</td>\n",
       "      <td>0.203405</td>\n",
       "      <td>0.106456</td>\n",
       "      <td>0.023227</td>\n",
       "      <td>0.017094</td>\n",
       "      <td>-0.066058</td>\n",
       "    </tr>\n",
       "    <tr>\n",
       "      <th>wall_area</th>\n",
       "      <td>0.032253</td>\n",
       "      <td>0.771500</td>\n",
       "      <td>0.443259</td>\n",
       "      <td>0.070424</td>\n",
       "      <td>0.062684</td>\n",
       "      <td>0.289731</td>\n",
       "    </tr>\n",
       "    <tr>\n",
       "      <th>roof_area</th>\n",
       "      <td>-0.505071</td>\n",
       "      <td>-0.174253</td>\n",
       "      <td>-0.110266</td>\n",
       "      <td>-0.011362</td>\n",
       "      <td>-0.013605</td>\n",
       "      <td>-0.204344</td>\n",
       "    </tr>\n",
       "    <tr>\n",
       "      <th>overall_height</th>\n",
       "      <td>0.496216</td>\n",
       "      <td>0.177967</td>\n",
       "      <td>0.108852</td>\n",
       "      <td>0.011761</td>\n",
       "      <td>0.009215</td>\n",
       "      <td>-0.789434</td>\n",
       "    </tr>\n",
       "    <tr>\n",
       "      <th>orientaion</th>\n",
       "      <td>0.009429</td>\n",
       "      <td>-0.084626</td>\n",
       "      <td>-0.010248</td>\n",
       "      <td>0.996250</td>\n",
       "      <td>-0.011421</td>\n",
       "      <td>0.000224</td>\n",
       "    </tr>\n",
       "    <tr>\n",
       "      <th>glazing_area</th>\n",
       "      <td>0.009032</td>\n",
       "      <td>0.389242</td>\n",
       "      <td>-0.583146</td>\n",
       "      <td>0.018808</td>\n",
       "      <td>-0.712723</td>\n",
       "      <td>0.004603</td>\n",
       "    </tr>\n",
       "    <tr>\n",
       "      <th>glazing_area_dist</th>\n",
       "      <td>0.014294</td>\n",
       "      <td>0.310920</td>\n",
       "      <td>-0.644389</td>\n",
       "      <td>0.027648</td>\n",
       "      <td>0.697941</td>\n",
       "      <td>-0.001310</td>\n",
       "    </tr>\n",
       "  </tbody>\n",
       "</table>\n",
       "</div>"
      ],
      "text/plain": [
       "                             1         2         3         4         5  \\\n",
       "relative_compactness  0.495257 -0.214559 -0.113051 -0.024524 -0.016792   \n",
       "surface_area         -0.501974  0.203405  0.106456  0.023227  0.017094   \n",
       "wall_area             0.032253  0.771500  0.443259  0.070424  0.062684   \n",
       "roof_area            -0.505071 -0.174253 -0.110266 -0.011362 -0.013605   \n",
       "overall_height        0.496216  0.177967  0.108852  0.011761  0.009215   \n",
       "orientaion            0.009429 -0.084626 -0.010248  0.996250 -0.011421   \n",
       "glazing_area          0.009032  0.389242 -0.583146  0.018808 -0.712723   \n",
       "glazing_area_dist     0.014294  0.310920 -0.644389  0.027648  0.697941   \n",
       "\n",
       "                             6  \n",
       "relative_compactness  0.496696  \n",
       "surface_area         -0.066058  \n",
       "wall_area             0.289731  \n",
       "roof_area            -0.204344  \n",
       "overall_height       -0.789434  \n",
       "orientaion            0.000224  \n",
       "glazing_area          0.004603  \n",
       "glazing_area_dist    -0.001310  "
      ]
     },
     "execution_count": 44,
     "metadata": {},
     "output_type": "execute_result"
    }
   ],
   "source": [
    "pca_components=pd.DataFrame(pca.components_.T)\n",
    "pca_components.columns=pca_components.columns+1\n",
    "pca_components.index=energy_X.columns\n",
    "pca_components"
   ]
  },
  {
   "cell_type": "code",
   "execution_count": 45,
   "id": "prescribed-procedure",
   "metadata": {},
   "outputs": [
    {
     "data": {
      "text/plain": [
       "{'PC1': 1.2237502308192962,\n",
       " 'PC2': 1.2296504746050319,\n",
       " 'PC3': 0.9946251908162103,\n",
       " 'PC4': 1.0149481631576247,\n",
       " 'PC5': 0.9302710296073007,\n",
       " 'PC6': 0.7343858026456898}"
      ]
     },
     "execution_count": 45,
     "metadata": {},
     "output_type": "execute_result"
    }
   ],
   "source": [
    "dict(zip([\"PC1\",\"PC2\",\"PC3\",\"PC4\",\"PC5\",\"PC6\"],np.exp(l_reg_pca.coef_)))"
   ]
  },
  {
   "cell_type": "code",
   "execution_count": 46,
   "id": "biological-procedure",
   "metadata": {},
   "outputs": [
    {
     "data": {
      "text/html": [
       "<div>\n",
       "<style scoped>\n",
       "    .dataframe tbody tr th:only-of-type {\n",
       "        vertical-align: middle;\n",
       "    }\n",
       "\n",
       "    .dataframe tbody tr th {\n",
       "        vertical-align: top;\n",
       "    }\n",
       "\n",
       "    .dataframe thead th {\n",
       "        text-align: right;\n",
       "    }\n",
       "</style>\n",
       "<table border=\"1\" class=\"dataframe\">\n",
       "  <thead>\n",
       "    <tr style=\"text-align: right;\">\n",
       "      <th></th>\n",
       "      <th>CP1</th>\n",
       "      <th>CP2</th>\n",
       "      <th>CP3</th>\n",
       "      <th>CP4</th>\n",
       "      <th>CP5</th>\n",
       "      <th>CP6</th>\n",
       "      <th>CP7</th>\n",
       "    </tr>\n",
       "  </thead>\n",
       "  <tbody>\n",
       "    <tr>\n",
       "      <th>relative_compactness</th>\n",
       "      <td>0.479897</td>\n",
       "      <td>-0.364691</td>\n",
       "      <td>-0.065655</td>\n",
       "      <td>-0.406652</td>\n",
       "      <td>0.020483</td>\n",
       "      <td>-0.193601</td>\n",
       "      <td>0.496935</td>\n",
       "    </tr>\n",
       "    <tr>\n",
       "      <th>surface_area</th>\n",
       "      <td>-0.487191</td>\n",
       "      <td>0.354406</td>\n",
       "      <td>0.093269</td>\n",
       "      <td>0.101933</td>\n",
       "      <td>-0.033945</td>\n",
       "      <td>0.191765</td>\n",
       "      <td>0.195180</td>\n",
       "    </tr>\n",
       "    <tr>\n",
       "      <th>wall_area</th>\n",
       "      <td>0.122966</td>\n",
       "      <td>0.694042</td>\n",
       "      <td>0.361988</td>\n",
       "      <td>0.006992</td>\n",
       "      <td>-0.187442</td>\n",
       "      <td>0.759983</td>\n",
       "      <td>-0.285697</td>\n",
       "    </tr>\n",
       "    <tr>\n",
       "      <th>roof_area</th>\n",
       "      <td>-0.534163</td>\n",
       "      <td>0.012119</td>\n",
       "      <td>-0.082979</td>\n",
       "      <td>0.096039</td>\n",
       "      <td>0.056962</td>\n",
       "      <td>-0.178163</td>\n",
       "      <td>0.327602</td>\n",
       "    </tr>\n",
       "    <tr>\n",
       "      <th>overall_height</th>\n",
       "      <td>0.526647</td>\n",
       "      <td>-0.001525</td>\n",
       "      <td>0.005551</td>\n",
       "      <td>0.617171</td>\n",
       "      <td>-0.016928</td>\n",
       "      <td>0.187267</td>\n",
       "      <td>0.039840</td>\n",
       "    </tr>\n",
       "    <tr>\n",
       "      <th>orientaion</th>\n",
       "      <td>0.005334</td>\n",
       "      <td>-0.031420</td>\n",
       "      <td>-0.221267</td>\n",
       "      <td>-0.650988</td>\n",
       "      <td>0.865086</td>\n",
       "      <td>0.722646</td>\n",
       "      <td>-0.395434</td>\n",
       "    </tr>\n",
       "    <tr>\n",
       "      <th>glazing_area</th>\n",
       "      <td>0.069163</td>\n",
       "      <td>0.486561</td>\n",
       "      <td>-0.762146</td>\n",
       "      <td>-0.527989</td>\n",
       "      <td>0.187791</td>\n",
       "      <td>-0.944519</td>\n",
       "      <td>0.438689</td>\n",
       "    </tr>\n",
       "    <tr>\n",
       "      <th>glazing_area_dist</th>\n",
       "      <td>0.041814</td>\n",
       "      <td>0.192235</td>\n",
       "      <td>0.934596</td>\n",
       "      <td>0.244192</td>\n",
       "      <td>0.440535</td>\n",
       "      <td>-0.943176</td>\n",
       "      <td>0.419061</td>\n",
       "    </tr>\n",
       "  </tbody>\n",
       "</table>\n",
       "</div>"
      ],
      "text/plain": [
       "                           CP1       CP2       CP3       CP4       CP5  \\\n",
       "relative_compactness  0.479897 -0.364691 -0.065655 -0.406652  0.020483   \n",
       "surface_area         -0.487191  0.354406  0.093269  0.101933 -0.033945   \n",
       "wall_area             0.122966  0.694042  0.361988  0.006992 -0.187442   \n",
       "roof_area            -0.534163  0.012119 -0.082979  0.096039  0.056962   \n",
       "overall_height        0.526647 -0.001525  0.005551  0.617171 -0.016928   \n",
       "orientaion            0.005334 -0.031420 -0.221267 -0.650988  0.865086   \n",
       "glazing_area          0.069163  0.486561 -0.762146 -0.527989  0.187791   \n",
       "glazing_area_dist     0.041814  0.192235  0.934596  0.244192  0.440535   \n",
       "\n",
       "                           CP6       CP7  \n",
       "relative_compactness -0.193601  0.496935  \n",
       "surface_area          0.191765  0.195180  \n",
       "wall_area             0.759983 -0.285697  \n",
       "roof_area            -0.178163  0.327602  \n",
       "overall_height        0.187267  0.039840  \n",
       "orientaion            0.722646 -0.395434  \n",
       "glazing_area         -0.944519  0.438689  \n",
       "glazing_area_dist    -0.943176  0.419061  "
      ]
     },
     "execution_count": 46,
     "metadata": {},
     "output_type": "execute_result"
    }
   ],
   "source": [
    "pls_x_loading=pd.DataFrame(pls_rg_f.x_loadings_)\n",
    "pls_x_loading.columns=[\"CP1\",\"CP2\",\"CP3\",\"CP4\",\"CP5\",\"CP6\",\"CP7\"]\n",
    "pls_x_loading.index=energy_test_r_X.columns\n",
    "pls_x_loading"
   ]
  },
  {
   "cell_type": "code",
   "execution_count": 47,
   "id": "moral-lawsuit",
   "metadata": {},
   "outputs": [
    {
     "data": {
      "text/plain": [
       "{'CP1': 1.0972234091811497,\n",
       " 'CP2': 1.1074926619917096,\n",
       " 'CP3': 1.0998358384772886,\n",
       " 'CP4': 1.0553127481672062,\n",
       " 'CP5': 1.5889404484041691,\n",
       " 'CP6': 1.0000631119513945,\n",
       " 'CP7': 1.1447580709168188}"
      ]
     },
     "execution_count": 47,
     "metadata": {},
     "output_type": "execute_result"
    }
   ],
   "source": [
    "pls_rg_coef_f=dict(zip(pls_x_loading.columns,np.ravel(np.exp(pls_rg_f.coef_))))\n",
    "pls_rg_coef_f"
   ]
  },
  {
   "cell_type": "code",
   "execution_count": null,
   "id": "royal-camel",
   "metadata": {},
   "outputs": [],
   "source": []
  }
 ],
 "metadata": {
  "celltoolbar": "Raw Cell Format",
  "kernelspec": {
   "display_name": "Python 3",
   "language": "python",
   "name": "python3"
  },
  "language_info": {
   "codemirror_mode": {
    "name": "ipython",
    "version": 3
   },
   "file_extension": ".py",
   "mimetype": "text/x-python",
   "name": "python",
   "nbconvert_exporter": "python",
   "pygments_lexer": "ipython3",
   "version": "3.7.6"
  }
 },
 "nbformat": 4,
 "nbformat_minor": 5
}
